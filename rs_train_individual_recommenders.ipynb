{
 "cells": [
  {
   "cell_type": "code",
   "execution_count": 1,
   "metadata": {},
   "outputs": [
    {
     "data": {
      "text/plain": [
       "'ml-1m'"
      ]
     },
     "metadata": {},
     "output_type": "display_data"
    },
    {
     "data": {
      "text/plain": [
       "'preprocessed_dataset'"
      ]
     },
     "metadata": {},
     "output_type": "display_data"
    }
   ],
   "source": [
    "from datetime import datetime\n",
    "import settings.config as cfg\n",
    "import pandas as pd\n",
    "import numpy as np\n",
    "\n",
    "\n",
    "preprocessed_dataset_folder = cfg.preprocessed_dataset_folder\n",
    "individual_rs_strategy = cfg.individual_rs_strategy\n",
    "aggregation_strategies = cfg.aggregation_strategies\n",
    "recommendations_number = cfg.recommendations_number\n",
    "individual_rs_validation_folds_k = cfg.individual_rs_validation_folds_k\n",
    "group_rs_evaluation_folds_k = cfg.group_rs_evaluation_folds_k\n",
    "evaluation_strategy = cfg.evaluation_strategy\n",
    "metrics = cfg.metrics\n",
    "group_types = cfg.group_types\n",
    "\n",
    "display(cfg.dataset_folder,cfg.preprocessed_dataset_folder)"
   ]
  },
  {
   "cell_type": "code",
   "execution_count": 2,
   "metadata": {},
   "outputs": [],
   "source": [
    "import pandas as pd\n",
    "import pickle\n",
    "ratings_df = pd.read_csv(preprocessed_dataset_folder+\"/ratings.csv\")"
   ]
  },
  {
   "cell_type": "markdown",
   "metadata": {},
   "source": [
    "## Train individual RS / Prepare groundtruth"
   ]
  },
  {
   "cell_type": "code",
   "execution_count": 3,
   "metadata": {
    "scrolled": false
   },
   "outputs": [
    {
     "name": "stdout",
     "output_type": "stream",
     "text": [
      "2022-10-18 22:18:55.508939 Creating folds\n",
      "2022-10-18 22:18:55.508939 Folds created!\n",
      ">>> Start processing fold: Train 753780 Test: 188445\n",
      "2022-10-18 22:19:06.618034 Train individual RS and get predictions\n",
      "LENSKIT_ALS\n",
      "training\n"
     ]
    },
    {
     "name": "stderr",
     "output_type": "stream",
     "text": [
      "Numba is using threading layer omp - consider TBB\n",
      "BLAS using multiple threads - can cause oversubscription\n",
      "found 2 potential runtime problems - see https://boi.st/lkpy-perf\n"
     ]
    },
    {
     "name": "stdout",
     "output_type": "stream",
     "text": [
      "features: 200, iterations: 2, regularization: 0.1, damping: 50000\n",
      "('LENSKIT_ALS', '[200, 2, 0.1, 50000]')\n",
      "evaluating predictions\n",
      "Done!\n",
      ">>> Start processing fold: Train 753780 Test: 188445\n",
      "2022-10-18 22:40:39.275745 Train individual RS and get predictions\n",
      "LENSKIT_ALS\n",
      "training\n",
      "features: 200, iterations: 2, regularization: 0.002, damping: 50000\n",
      "('LENSKIT_ALS', '[200, 2, 0.002, 50000]')\n",
      "evaluating predictions\n",
      "Done!\n",
      ">>> Start processing fold: Train 753780 Test: 188445\n",
      "2022-10-18 23:01:55.049136 Train individual RS and get predictions\n",
      "LENSKIT_ALS\n",
      "training\n",
      "features: 200, iterations: 2, regularization: 0.1, damping: 50000\n",
      "('LENSKIT_ALS', '[200, 2, 0.1, 50000]')\n",
      "evaluating predictions\n",
      "Done!\n",
      ">>> Start processing fold: Train 753780 Test: 188445\n",
      "2022-10-18 23:23:10.802209 Train individual RS and get predictions\n",
      "LENSKIT_ALS\n",
      "training\n",
      "features: 200, iterations: 3, regularization: 0.1, damping: 50000\n",
      "('LENSKIT_ALS', '[200, 3, 0.1, 50000]')\n",
      "evaluating predictions\n",
      "Done!\n",
      ">>> Start processing fold: Train 753780 Test: 188445\n",
      "2022-10-18 23:44:39.288152 Train individual RS and get predictions\n",
      "LENSKIT_ALS\n",
      "training\n",
      "features: 200, iterations: 2, regularization: 0.001, damping: 50000\n",
      "('LENSKIT_ALS', '[200, 2, 0.001, 50000]')\n",
      "evaluating predictions\n",
      "Done!\n",
      "2022-10-19 00:06:53.346388 Done!\n"
     ]
    }
   ],
   "source": [
    "recommenders = [\"LENSKIT_ALS\"]#,\"LENSKIT_CF_USER\", \"LENSKIT_CF_ITEM\"\n",
    "\n",
    "import pickle\n",
    "import os\n",
    "from individual_rs.individual_rs import IndividualRS\n",
    "from utils.utility_functions import create_per_user_group_choices\n",
    "\n",
    "import warnings\n",
    "warnings.filterwarnings('ignore')\n",
    "# General pipeline\n",
    "\n",
    "# creating train-test folds\n",
    "# split stratified on the users \n",
    "\n",
    "from sklearn.model_selection import StratifiedKFold\n",
    "import itertools\n",
    "\n",
    "if group_types == \"SYNTHETIC\":\n",
    "    print(datetime.now(), \"Creating folds\")\n",
    "    # skf = StratifiedKFold(n_splits=group_rs_evaluation_folds_k, random_state=None, shuffle=True)\n",
    "    skf = StratifiedKFold(n_splits=group_rs_evaluation_folds_k, random_state=42, shuffle=True)\n",
    "\n",
    "    print(datetime.now(), \"Folds created!\")\n",
    "    current_fold = 0\n",
    "    for train_index, test_index in skf.split(ratings_df, ratings_df['user']):\n",
    "        print(\">>> Start processing fold: Train\", len(train_index), \"Test:\", len(test_index))\n",
    "\n",
    "        # split train and test df\n",
    "        train_df = ratings_df.iloc[train_index]\n",
    "        test_df = ratings_df.iloc[test_index]\n",
    "\n",
    "        # getting user-items pairs in the training set\n",
    "        train_set_pairs = set(list(zip(train_df['user'].values,train_df['item'].values)))\n",
    "\n",
    "        # create test_complete_df with all the possible user-items pairs in the test_df\n",
    "        user_set = set(test_df['user'].values)\n",
    "        item_set = set(test_df['item'].values)\n",
    "        all_ui_values = list(itertools.product(user_set, item_set))\n",
    "        test_pred_df = pd.DataFrame(all_ui_values, columns=['user', 'item'])\n",
    "\n",
    "    #     print(datetime.now(), \"Extended test df\")\n",
    "    #     display(test_pred_df)\n",
    "\n",
    "        print(datetime.now(), \"Train individual RS and get predictions\")\n",
    "        # train individual rs and get predictions\n",
    "        \n",
    "        path_to_fold = preprocessed_dataset_folder+\"/fold_\"+str(current_fold)\n",
    "        if not os.path.exists(path_to_fold):\n",
    "            os.mkdir(path_to_fold)\n",
    "            \n",
    "        pickle.dump(train_df, open(path_to_fold+\"/train_df.pkl\", \"wb\"))\n",
    "        pickle.dump(test_df, open(path_to_fold+\"/test_df.pkl\", \"wb\"))\n",
    "        \n",
    "        for recommender in recommenders:                \n",
    "            test_pred_df = IndividualRS.train_individual_rs_and_get_predictions(recommender, train_df, test_pred_df)\n",
    "            #correction for train set records (assuming repeated recommendations provide no value, therefore predicted_rating=0)\n",
    "            train_set_pairs = train_set_pairs.intersection(set(all_ui_values))\n",
    "            test_pred_df.set_index([\"user\",\"item\"], inplace=True)\n",
    "            test_pred_df.loc[train_set_pairs,\"predicted_rating\"] = 0.0\n",
    "            test_pred_df.reset_index(inplace=True)\n",
    "            \n",
    "            path_to_rec = path_to_fold+\"/\"+recommender\n",
    "            if not os.path.exists(path_to_rec):\n",
    "                os.mkdir(path_to_rec)\n",
    "                \n",
    "            pickle.dump(test_pred_df, open(path_to_rec+\"/test_pred_df.pkl\", \"wb\"))                \n",
    "\n",
    "        current_fold = current_fold + 1\n",
    "        \n",
    "\n",
    "\n",
    "else:\n",
    "    print(\"ERROR: incorrect config file!\")\n",
    "print(datetime.now(), \"Done!\")\n"
   ]
  },
  {
   "cell_type": "code",
   "execution_count": null,
   "metadata": {},
   "outputs": [],
   "source": []
  }
 ],
 "metadata": {
  "kernelspec": {
   "display_name": "Python 3",
   "language": "python",
   "name": "python3"
  },
  "language_info": {
   "codemirror_mode": {
    "name": "ipython",
    "version": 3
   },
   "file_extension": ".py",
   "mimetype": "text/x-python",
   "name": "python",
   "nbconvert_exporter": "python",
   "pygments_lexer": "ipython3",
   "version": "3.8.5"
  }
 },
 "nbformat": 4,
 "nbformat_minor": 5
}
