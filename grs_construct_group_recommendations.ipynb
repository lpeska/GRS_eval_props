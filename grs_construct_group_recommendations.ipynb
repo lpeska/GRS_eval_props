{
 "cells": [
  {
   "cell_type": "code",
   "execution_count": 1,
   "metadata": {},
   "outputs": [
    {
     "data": {
      "text/plain": [
       "'ml-1m'"
      ]
     },
     "metadata": {},
     "output_type": "display_data"
    },
    {
     "data": {
      "text/plain": [
       "'preprocessed_dataset'"
      ]
     },
     "metadata": {},
     "output_type": "display_data"
    }
   ],
   "source": [
    "from datetime import datetime\n",
    "import settings.config as cfg\n",
    "import pandas as pd\n",
    "import numpy as np\n",
    "\n",
    "\n",
    "preprocessed_dataset_folder = cfg.preprocessed_dataset_folder\n",
    "individual_rs_strategy = cfg.individual_rs_strategy\n",
    "aggregation_strategies = cfg.aggregation_strategies\n",
    "recommendations_number = cfg.recommendations_number\n",
    "individual_rs_validation_folds_k = cfg.individual_rs_validation_folds_k\n",
    "group_rs_evaluation_folds_k = cfg.group_rs_evaluation_folds_k\n",
    "evaluation_strategy = cfg.evaluation_strategy\n",
    "metrics = cfg.metrics\n",
    "group_types = cfg.group_types\n",
    "\n",
    "display(cfg.dataset_folder,cfg.preprocessed_dataset_folder)"
   ]
  },
  {
   "cell_type": "code",
   "execution_count": 2,
   "metadata": {},
   "outputs": [
    {
     "data": {
      "text/plain": [
       "240"
      ]
     },
     "execution_count": 2,
     "metadata": {},
     "output_type": "execute_result"
    }
   ],
   "source": [
    "import pandas as pd\n",
    "ratings_df = pd.read_csv(preprocessed_dataset_folder+\"/ratings.csv\")\n",
    "\n",
    "import pickle\n",
    "\n",
    "group_composition = pickle.load(open(preprocessed_dataset_folder+\"/group_composition.pkl\", \"rb\"))\n",
    "len(group_composition)"
   ]
  },
  {
   "cell_type": "markdown",
   "metadata": {},
   "source": [
    "# Train individual RS / Prepare groundtruth\n",
    "- it is expected, that individual RS are already trained and stored in pkl"
   ]
  },
  {
   "cell_type": "markdown",
   "metadata": {},
   "source": [
    "# Construct group recommendations"
   ]
  },
  {
   "cell_type": "code",
   "execution_count": 3,
   "metadata": {},
   "outputs": [
    {
     "name": "stdout",
     "output_type": "stream",
     "text": [
      "2022-10-21 16:01:27.967867 fold_0,LENSKIT_ALS: Generate GRS for all the aggregation strategies and all the groups\n",
      "2022-10-21 16:02:40.472938 fold_0: Done\n",
      "2022-10-21 16:02:40.643941 fold_0,LENSKIT_CF_USER: Generate GRS for all the aggregation strategies and all the groups\n",
      "2022-10-21 16:03:51.470425 fold_0: Done\n",
      "2022-10-21 16:03:51.602759 fold_0,LENSKIT_CF_ITEM: Generate GRS for all the aggregation strategies and all the groups\n",
      "2022-10-21 16:05:01.929428 fold_0: Done\n",
      "2022-10-21 16:05:04.921479 fold_1,LENSKIT_ALS: Generate GRS for all the aggregation strategies and all the groups\n",
      "2022-10-21 16:06:15.596275 fold_1: Done\n",
      "2022-10-21 16:06:17.926242 fold_1,LENSKIT_CF_USER: Generate GRS for all the aggregation strategies and all the groups\n",
      "2022-10-21 16:07:29.125881 fold_1: Done\n",
      "2022-10-21 16:07:31.317111 fold_1,LENSKIT_CF_ITEM: Generate GRS for all the aggregation strategies and all the groups\n",
      "2022-10-21 16:08:40.002037 fold_1: Done\n",
      "2022-10-21 16:08:43.134220 fold_2,LENSKIT_ALS: Generate GRS for all the aggregation strategies and all the groups\n",
      "2022-10-21 16:09:53.669155 fold_2: Done\n",
      "2022-10-21 16:09:56.300987 fold_2,LENSKIT_CF_USER: Generate GRS for all the aggregation strategies and all the groups\n",
      "2022-10-21 16:11:06.862064 fold_2: Done\n",
      "2022-10-21 16:11:09.185179 fold_2,LENSKIT_CF_ITEM: Generate GRS for all the aggregation strategies and all the groups\n",
      "2022-10-21 16:12:19.582759 fold_2: Done\n",
      "2022-10-21 16:12:22.119651 fold_3,LENSKIT_ALS: Generate GRS for all the aggregation strategies and all the groups\n",
      "2022-10-21 16:13:32.629960 fold_3: Done\n",
      "2022-10-21 16:13:35.181616 fold_3,LENSKIT_CF_USER: Generate GRS for all the aggregation strategies and all the groups\n",
      "2022-10-21 16:14:45.557801 fold_3: Done\n",
      "2022-10-21 16:14:48.203993 fold_3,LENSKIT_CF_ITEM: Generate GRS for all the aggregation strategies and all the groups\n",
      "2022-10-21 16:15:58.360664 fold_3: Done\n",
      "2022-10-21 16:16:01.280097 fold_4,LENSKIT_ALS: Generate GRS for all the aggregation strategies and all the groups\n",
      "2022-10-21 16:17:11.867062 fold_4: Done\n",
      "2022-10-21 16:17:14.086294 fold_4,LENSKIT_CF_USER: Generate GRS for all the aggregation strategies and all the groups\n",
      "2022-10-21 16:18:25.785755 fold_4: Done\n",
      "2022-10-21 16:18:28.349448 fold_4,LENSKIT_CF_ITEM: Generate GRS for all the aggregation strategies and all the groups\n",
      "2022-10-21 16:19:38.604349 fold_4: Done\n"
     ]
    }
   ],
   "source": [
    "from utils.utility_functions import generate_group_recommendations_forall_groups\n",
    "\n",
    "import os\n",
    "import warnings\n",
    "warnings.filterwarnings('ignore')\n",
    "lst = os.listdir(preprocessed_dataset_folder)\n",
    "folds = [i for i in lst if (os.path.isdir(preprocessed_dataset_folder+\"/\"+i) and i.startswith(\"fold\"))]\n",
    "\n",
    "for f in folds:\n",
    "    current_fold = int(f.replace(\"fold_\",\"\"))\n",
    "    path_to_fold = preprocessed_dataset_folder+\"/\"+f\n",
    "    recommenders = [\"LENSKIT_ALS\",\"LENSKIT_CF_USER\", \"LENSKIT_CF_ITEM\"]\n",
    "    \n",
    "    for r in recommenders:\n",
    "        path_to_recommender = path_to_fold + \"/\" +r\n",
    "        train_df = pickle.load(open(path_to_fold+\"/train_df.pkl\", \"rb\"))\n",
    "        test_df = pickle.load(open(path_to_fold+\"/test_df.pkl\", \"rb\"))\n",
    "        test_pred_df = pickle.load(open(path_to_recommender+\"/test_pred_df.pkl\", \"rb\"))\n",
    "        \n",
    "   \n",
    "\n",
    "        print(datetime.now(), f+\",\"+r+\": Generate GRS for all the aggregation strategies and all the groups\")\n",
    "        # - generate the recommendations for all the aggregation strategies and all the groups\n",
    "        group_recommendations = generate_group_recommendations_forall_groups(test_pred_df, group_composition, cfg.recommendations_number)\n",
    "        print(datetime.now(), f+\": Done\")\n",
    "\n",
    "        pickle.dump(group_recommendations, open(path_to_recommender+\"/group_recommendations.pkl\", \"wb\"))\n",
    "\n"
   ]
  },
  {
   "cell_type": "code",
   "execution_count": null,
   "metadata": {},
   "outputs": [],
   "source": []
  }
 ],
 "metadata": {
  "kernelspec": {
   "display_name": "Python 3",
   "language": "python",
   "name": "python3"
  },
  "language_info": {
   "codemirror_mode": {
    "name": "ipython",
    "version": 3
   },
   "file_extension": ".py",
   "mimetype": "text/x-python",
   "name": "python",
   "nbconvert_exporter": "python",
   "pygments_lexer": "ipython3",
   "version": "3.8.5"
  }
 },
 "nbformat": 4,
 "nbformat_minor": 5
}
